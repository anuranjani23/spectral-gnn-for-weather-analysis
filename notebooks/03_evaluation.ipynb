{
    "cells": [
      {
        "cell_type": "code",
        "execution_count": null,
        "metadata": {},
        "source": [
          "import torch\n",
          "import numpy as np\n",
          "import matplotlib.pyplot as plt\n",
          "import seaborn as sns\n",
          "from src.model.gnn import GNNModel\n",
          "from src.model.sfno import TemporalSFNO\n",
          "from src.data.ncep_dataloader import get_ncep_test_data\n",
          "from data.preprocess import get_normalizer"
        ],
        "outputs": []
      },
      {
        "cell_type": "code",
        "execution_count": null,
        "metadata": {},
        "source": [
          "# Set device\n",
          "device = torch.device(\"cuda\" if torch.cuda.is_available() else \"cpu\")"
        ],
        "outputs": []
      },
      {
        "cell_type": "code",
        "execution_count": null,
        "metadata": {},
        "source": [
          "# Load models\n",
          "gnn_model = GNNModel().to(device)\n",
          "sfno_model = TemporalSFNO().to(device)\n",
          "gnn_model.eval()\n",
          "sfno_model.eval()"
        ],
        "outputs": []
      },
      {
        "cell_type": "code",
        "execution_count": null,
        "metadata": {},
        "source": [
          "# Load test data\n",
          "test_inputs, targets = get_ncep_test_data()  # (B, T, C, H, W)\n",
          "test_inputs = test_inputs.to(device)\n",
          "targets = targets.to(device)"
        ],
        "outputs": []
      },
      {
        "cell_type": "code",
        "execution_count": null,
        "metadata": {},
        "source": [
          "# Load normalizer (optional - depends if your data is normalized)\n",
          "normalizer = get_normalizer()\n",
          "mean, std = normalizer.mean.to(device), normalizer.std.to(device)"
        ],
        "outputs": []
      },
      {
        "cell_type": "code",
        "execution_count": null,
        "metadata": {},
        "source": [
          "# Prediction\n",
          "with torch.no_grad():\n",
          "    gnn_preds = gnn_model(test_inputs)\n",
          "    sfno_preds = sfno_model(test_inputs)"
        ],
        "outputs": []
      },
      {
        "cell_type": "code",
        "execution_count": null,
        "metadata": {},
        "source": [
          "# Denormalize (optional — only if your data was normalized)\n",
          "def denormalize(x, mean, std):\n",
          "    return x * std + mean\n",
          "\n",
          "gnn_preds = denormalize(gnn_preds, mean, std)\n",
          "sfno_preds = denormalize(sfno_preds, mean, std)\n",
          "targets = denormalize(targets, mean, std)"
        ],
        "outputs": []
      },
      {
        "cell_type": "code",
        "execution_count": null,
        "metadata": {},
        "source": [
          "# Evaluation Metrics\n",
          "def get_metrics(pred, target):\n",
          "    rmse = torch.sqrt(torch.mean((pred - target) ** 2)).item()\n",
          "    mae = torch.mean(torch.abs(pred - target)).item()\n",
          "    acc = 1 - (torch.norm(pred - target) / torch.norm(target)).item()\n",
          "    return {\"rmse\": rmse, \"mae\": mae, \"acc\": acc}\n",
          "\n",
          "gnn_metrics = get_metrics(gnn_preds, targets)\n",
          "sfno_metrics = get_metrics(sfno_preds, targets)\n",
          "print(\"GNN Metrics:\", gnn_metrics)\n",
          "print(\"SFNO Metrics:\", sfno_metrics)"
        ],
        "outputs": []
      },
      {
        "cell_type": "code",
        "execution_count": null,
        "metadata": {},
        "source": [
          "# Plotting Functions\n",
          "def plot_1d_time_series(y_true, y_preds, labels, time_axis):\n",
          "    plt.figure(figsize=(10, 4))\n",
          "    plt.plot(time_axis, y_true, label=\"Ground Truth\", color='black')\n",
          "    for y_pred, label in zip(y_preds, labels):\n",
          "        plt.plot(time_axis, y_pred, label=label)\n",
          "    plt.legend()\n",
          "    plt.xlabel(\"Time\")\n",
          "    plt.ylabel(\"Value\")\n",
          "    plt.title(\"1D Time Series Forecast\")\n",
          "    plt.grid(True)\n",
          "    plt.show()"
        ],
        "outputs": []
      },
      {
        "cell_type": "code",
        "execution_count": null,
        "metadata": {},
        "source": [
          "def plot_scatter(pred, true, title=\"Prediction vs Ground Truth\"):\n",
          "    plt.figure(figsize=(6, 6))\n",
          "    sns.scatterplot(x=true.flatten().cpu(), y=pred.flatten().cpu(), alpha=0.3)\n",
          "    plt.xlabel(\"Ground Truth\")\n",
          "    plt.ylabel(\"Prediction\")\n",
          "    plt.title(title)\n",
          "    plt.plot([true.min(), true.max()], [true.min(), true.max()], 'k--')\n",
          "    plt.axis('equal')\n",
          "    plt.show()"
        ],
        "outputs": []
      },
      {
        "cell_type": "code",
        "execution_count": null,
        "metadata": {},
        "source": [
          "def plot_rmse_map(pred, target, title=\"Spatial RMSE\"):\n",
          "    rmse_map = torch.sqrt(torch.mean((pred - target) ** 2, dim=(0, 1, 2))).cpu().numpy()  # shape: HxW\n",
          "    plt.figure(figsize=(6, 5))\n",
          "    plt.imshow(rmse_map, cmap=\"magma\", origin='lower')\n",
          "    plt.colorbar(label=\"RMSE\")\n",
          "    plt.title(title)\n",
          "    plt.xlabel(\"Longitude\")\n",
          "    plt.ylabel(\"Latitude\")\n",
          "    plt.show()"
        ],
        "outputs": []
      },
      {
        "cell_type": "code",
        "execution_count": null,
        "metadata": {},
        "source": [
          "# Select a location for time series plot (e.g., center grid point)\n",
          "lat_idx, lon_idx = test_inputs.shape[-2] // 2, test_inputs.shape[-1] // 2\n",
          "time_axis = np.arange(targets.shape[1])\n",
          "y_true = targets[0, :, 0, lat_idx, lon_idx].cpu().numpy()\n",
          "y_gnn = gnn_preds[0, :, 0, lat_idx, lon_idx].cpu().numpy()\n",
          "y_sfno = sfno_preds[0, :, 0, lat_idx, lon_idx].cpu().numpy()"
        ],
        "outputs": []
      },
      {
        "cell_type": "code",
        "execution_count": null,
        "metadata": {},
        "source": [
          "plot_1d_time_series(y_true, [y_gnn, y_sfno], labels=[\"GNN\", \"SFNO\"], time_axis=time_axis)"
        ],
        "outputs": []
      },
      {
        "cell_type": "code",
        "execution_count": null,
        "metadata": {},
        "source": [
          "plot_scatter(gnn_preds, targets, title=\"GNN Predictions\")"
        ],
        "outputs": []
      },
      {
        "cell_type": "code",
        "execution_count": null,
        "metadata": {},
        "source": [
          "plot_scatter(sfno_preds, targets, title=\"SFNO Predictions\")"
        ],
        "outputs": []
      },
      {
        "cell_type": "code",
        "execution_count": null,
        "metadata": {},
        "source": [
          "plot_rmse_map(gnn_preds, targets, title=\"GNN Spatial RMSE\")"
        ],
        "outputs": []
      },
      {
        "cell_type": "code",
        "execution_count": null,
        "metadata": {},
        "source": [
          "plot_rmse_map(sfno_preds, targets, title=\"SFNO Spatial RMSE\")"
        ],
        "outputs": []
      }
    ],
    "metadata": {
     "kernelspec": {
      "display_name": ".venv",
      "language": "python",
      "name": "python3"
     },
     "language_info": {
      "name": "python",
      "version": "3.12.6"
     }
    },
    "nbformat": 4,
    "nbformat_minor": 2
  }
  