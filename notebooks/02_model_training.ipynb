{
 "cells": [
  {
   "cell_type": "markdown",
   "metadata": {},
   "source": [
    "# 🌦️ Training Weather Forecasting Models\n",
    "\n",
    "This notebook demonstrates the complete training pipeline for **Graph Neural Network (GNN)** and **Spectral Fourier Neural Operator (SFNO)** models using the NCEP weather dataset. It includes:\n",
    "\n",
    "- Data loading and preprocessing\n",
    "- Configuration setup\n",
    "- Training for both GNN and SFNO models\n",
    "- Performance visualization\n",
    "- Saving final model checkpoints"
   ]
  },
  {
   "cell_type": "code",
   "execution_count": null,
   "metadata": {},
   "outputs": [],
   "source": [
    "# 📦 Import Dependencies\n",
    "import os\n",
    "import sys\n",
    "sys.path.append(\"../\")  # Ensure access to parent-level modules\n",
    "\n",
    "import matplotlib.pyplot as plt\n",
    "import torch\n",
    "\n",
    "# Custom modules\n",
    "from data.ncep_dataloader import create_ncep_dataloader\n",
    "from src.model import *"
   ]
  },
  {
   "cell_type": "markdown",
   "metadata": {},
   "source": [
    "## ⚙️ Configuration\n",
    "Set up all configuration parameters for data, models, training, and logging."
   ]
  },
  {
   "cell_type": "code",
   "execution_count": null,
   "metadata": {},
   "outputs": [],
   "source": [
    "# Define configuration dictionary\n",
    "config = {\n",
    "    # Dataset\n",
    "    \"data_dir\": \"../data/raw\",\n",
    "    \"variables\": ['air.2m.gauss.2024', 'uwnd.10m.gauss.2024', 'vwnd.10m.gauss.2024', 'slp.2024'],  # temperature, wind (u,v), surface pressure\n",
    "    \"history_steps\": 3,\n",
    "    \"forecast_steps\": 1,\n",
    "    \"batch_size\": 32,\n",
    "    \"use_graph\": True,\n",
    "    \"num_workers\": 4,\n",
    "\n",
    "    # Model\n",
    "    \"hidden_channels\": 128,\n",
    "    \"num_layers\": 3,\n",
    "    \"K\": 5,\n",
    "    \"lmax\": 16,\n",
    "\n",
    "    # Training\n",
    "    \"epochs\": 50,\n",
    "    \"learning_rate\": 1e-3,\n",
    "    \"weight_decay\": 1e-5,\n",
    "\n",
    "    # Logging / Saving\n",
    "    \"checkpoint_dir\": \"../results/checkpoints\",\n",
    "    \"logs_dir\": \"../results/logs\"\n",
    "}\n",
    "\n",
    "# Ensure directories exist\n",
    "os.makedirs(config[\"checkpoint_dir\"], exist_ok=True)\n",
    "os.makedirs(config[\"logs_dir\"], exist_ok=True)"
   ]
  },
  {
   "cell_type": "markdown",
   "metadata": {},
   "source": [
    "## 📥 Load NCEP Weather Data\n",
    "Load training, validation, and test dataloaders using the provided `create_ncep_dataloader()` utility."
   ]
  },
  {
   "cell_type": "code",
   "execution_count": null,
   "metadata": {},
   "outputs": [],
   "source": [
    "train_loader, val_loader, test_loader = create_ncep_dataloader(\n",
    "    config[\"data_dir\"],\n",
    "    batch_size=config[\"batch_size\"],\n",
    "    variables=config[\"variables\"],\n",
    "    history_steps=config[\"history_steps\"],\n",
    "    forecast_steps=config[\"forecast_steps\"],\n",
    "    use_graph=config[\"use_graph\"],\n",
    "    num_workers=config[\"num_workers\"]\n",
    ")\n",
    "\n",
    "print(f\"Train samples: {len(train_loader.dataset)}\")\n",
    "print(f\"Validation samples: {len(val_loader.dataset)}\")\n",
    "print(f\"Test samples: {len(test_loader.dataset)}\")"
   ]
  },
  {
   "cell_type": "markdown",
   "metadata": {},
   "source": [
    "## 🧠 Train GNN Model\n",
    "Run the training script for the GNN model. Ensure that the model architecture and training logic is implemented in `src/train/train_gnn.py`."
   ]
  },
  {
   "cell_type": "code",
   "execution_count": null,
   "metadata": {},
   "outputs": [],
   "source": [
    "%run src/train/train_gnn.py"
   ]
  },
  {
   "cell_type": "markdown",
   "metadata": {},
   "source": [
    "## 🌀 Train SFNO Model\n",
    "Execute the SFNO model training using its respective script."
   ]
  },
  {
   "cell_type": "code",
   "execution_count": null,
   "metadata": {},
   "outputs": [],
   "source": [
    "%run src/train/train_sfno.py"
   ]
  },
  {
   "cell_type": "markdown",
   "metadata": {},
   "source": [
    "## 📊 Compare Training Performance\n",
    "Extract TensorBoard logs and visualize loss curves for both GNN and SFNO models to assess convergence and generalization."
   ]
  },
  {
   "cell_type": "code",
   "execution_count": null,
   "metadata": {},
   "outputs": [],
   "source": [
    "import tensorflow as tf\n",
    "import pandas as pd\n",
    "\n",
    "def get_tensorboard_data(log_path, tag):\n",
    "    data = []\n",
    "    for event_file in os.listdir(log_path):\n",
    "        if event_file.startswith('events.'):\n",
    "            full_path = os.path.join(log_path, event_file)\n",
    "            for e in tf.compat.v1.train.summary_iterator(full_path):\n",
    "                for v in e.summary.value:\n",
    "                    if v.tag == tag:\n",
    "                        data.append((e.step, v.simple_value))\n",
    "    return pd.DataFrame(data, columns=['step', 'value'])"
   ]
  },
  {
   "cell_type": "code",
   "execution_count": null,
   "metadata": {},
   "outputs": [],
   "source": [
    "# Load training/validation losses for both models\n",
    "gnn_train_loss = get_tensorboard_data(os.path.join(config[\"logs_dir\"], \"gnn_model\"), \"Loss/train\")\n",
    "gnn_val_loss = get_tensorboard_data(os.path.join(config[\"logs_dir\"], \"gnn_model\"), \"Loss/val\")\n",
    "\n",
    "sfno_train_loss = get_tensorboard_data(os.path.join(config[\"logs_dir\"], \"sfno_model\"), \"Loss/train\")\n",
    "sfno_val_loss = get_tensorboard_data(os.path.join(config[\"logs_dir\"], \"sfno_model\"), \"Loss/val\")"
   ]
  },
  {
   "cell_type": "code",
   "execution_count": null,
   "metadata": {},
   "outputs": [],
   "source": [
    "# 📉 Plot training/validation loss curves\n",
    "plt.figure(figsize=(12, 8))\n",
    "\n",
    "plt.subplot(2, 1, 1)\n",
    "plt.plot(gnn_train_loss['step'], gnn_train_loss['value'], label='GNN Train')\n",
    "plt.plot(gnn_val_loss['step'], gnn_val_loss['value'], label='GNN Validation')\n",
    "plt.title('GNN Model Training Curves')\n",
    "plt.xlabel('Epoch')\n",
    "plt.ylabel('Loss')\n",
    "plt.legend()\n",
    "plt.grid(True)\n",
    "\n",
    "plt.subplot(2, 1, 2)\n",
    "plt.plot(sfno_train_loss['step'], sfno_train_loss['value'], label='SFNO Train')\n",
    "plt.plot(sfno_val_loss['step'], sfno_val_loss['value'], label='SFNO Validation')\n",
    "plt.title('SFNO Model Training Curves')\n",
    "plt.xlabel('Epoch')\n",
    "plt.ylabel('Loss')\n",
    "plt.legend()\n",
    "plt.grid(True)\n",
    "\n",
    "plt.tight_layout()\n",
    "plt.savefig(\"../results/model_training_comparison.png\")\n",
    "plt.show()"
   ]
  },
  {
   "cell_type": "markdown",
   "metadata": {},
   "source": [
    "## 💾 Save Final Models\n",
    "Persist the trained weights of both models for later use in evaluation or deployment."
   ]
  },
  {
   "cell_type": "code",
   "execution_count": null,
   "metadata": {},
   "outputs": [],
   "source": [
    "torch.save(gnn_model.state_dict(), os.path.join(config[\"checkpoint_dir\"], \"final_gnn_model.pt\"))\n",
    "torch.save(sfno_model.state_dict(), os.path.join(config[\"checkpoint_dir\"], \"final_sfno_model.pt\"))\n",
    "print(\"✅ Final models saved successfully.\")"
   ]
  }
 ],
 "metadata": {
  "kernelspec": {
   "display_name": ".venv",
   "language": "python",
   "name": "python3"
  },
  "language_info": {
   "name": "python",
   "version": "3.12.6"
  }
 },
 "nbformat": 4,
 "nbformat_minor": 2
}
